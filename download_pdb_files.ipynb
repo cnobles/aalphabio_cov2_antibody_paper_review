{
 "cells": [
  {
   "cell_type": "markdown",
   "metadata": {},
   "source": [
    "# Download PDB files used for Identifying Local Epitope Residues\n",
    "\n",
    "Run the cells below to download PDB files used within the analysis."
   ]
  },
  {
   "cell_type": "markdown",
   "metadata": {},
   "source": [
    "## Import required packages"
   ]
  },
  {
   "cell_type": "code",
   "execution_count": 2,
   "metadata": {},
   "outputs": [],
   "source": [
    "import os\n",
    "import sys\n",
    "import pandas as pd\n",
    "import urllib.request\n",
    "import Bio.PDB"
   ]
  },
  {
   "cell_type": "markdown",
   "metadata": {},
   "source": [
    "## Import PDB file information"
   ]
  },
  {
   "cell_type": "code",
   "execution_count": 3,
   "metadata": {},
   "outputs": [
    {
     "name": "stdout",
     "output_type": "stream",
     "text": [
      "        Antibody     Short_Name PDB_id\n",
      "0    Casirivimab   CoV_binder_1   6XDG\n",
      "1      Imdevimab   CoV_binder_2   7ZJL\n",
      "2   Bamlanivimab   CoV_binder_3   7KMG\n",
      "3    Regdanvimab   CoV_binder_4   7CM4\n",
      "4    Tixagevimab   CoV_binder_6   7L7D\n",
      "5     Cilgavimab   CoV_binder_7   8SUO\n",
      "6     Etesevimab   CoV_binder_8   7F7E\n",
      "7        COR-101   CoV_binder_9   7B3O\n",
      "8         CC12.1  CoV_binder_10   8CWV\n",
      "9         Fab-52  CoV_binder_11   7K9Z\n",
      "10          BD23  CoV_binder_12   7BYR\n",
      "11      m396-B10  CoV_binder_13   7KZC\n",
      "12     CR3014-C8  CoV_binder_14   7KZB\n",
      "13     CR3014-D1  CoV_binder_15   8WFH\n",
      "14     CR3022-B6  CoV_binder_16   7KZA\n",
      "15          FC05  CoV_binder_19   7D4G\n",
      "16           P17  CoV_binder_20   8GZ6\n",
      "17        CR3022  CoV_binder_24   6W7Y\n",
      "18          MR17  CoV_binder_28   7C8W\n",
      "19        VHH-72  CoV_binder_29   6WAQ\n",
      "20           Ty1  CoV_binder_30   6ZXN\n",
      "21        VHH-55  CoV_binder_33   6WAR\n"
     ]
    }
   ],
   "source": [
    "pdbids = pd.read_csv(\"additional_data/pdb_identifiers.csv\")\n",
    "print(pdbids)"
   ]
  },
  {
   "cell_type": "markdown",
   "metadata": {},
   "source": [
    "## Function to download PDB file from source"
   ]
  },
  {
   "cell_type": "code",
   "execution_count": 4,
   "metadata": {},
   "outputs": [],
   "source": [
    "def download_pdb_file(pdb_id, data_dir, base_url = \"https://files.rcsb.org/download/\"):\n",
    "    \"\"\"\n",
    "    Download PDB files to data directory.\n",
    "    Inputs:\n",
    "      - pdb_ids: string identifier for PDB file.\n",
    "      - data_dir: string path to download PDB file.\n",
    "      - base_url: string url path to download PDB files (source).\n",
    "    Outputs:\n",
    "      - Print statements indicating downloads or errors.\n",
    "      - File saved to local path given by 'data_dir' input.\n",
    "    \"\"\"\n",
    "    pdb_file_name = pdb_id + \".pdb\"\n",
    "    source_path = base_url + pdb_file_name\n",
    "    output_path = os.path.join(data_dir, pdb_file_name)\n",
    "    print(f\"Request {pdb_id} file from {source_path} to be downloaded to {output_path}.\")\n",
    "    try:\n",
    "        urllib.request.urlretrieve(source_path, output_path)\n",
    "        return(output_path)\n",
    "    except Exception as err:\n",
    "        print(str(err), file = sys.stderr)\n",
    "        return None"
   ]
  },
  {
   "cell_type": "markdown",
   "metadata": {},
   "source": [
    "## Create PDB file directory if it doesn't exist"
   ]
  },
  {
   "cell_type": "code",
   "execution_count": 5,
   "metadata": {},
   "outputs": [],
   "source": [
    "data_dir = \"./pdb_files/\"\n",
    "if not os.path.exists(data_dir):\n",
    "    os.makedirs(data_dir)"
   ]
  },
  {
   "cell_type": "markdown",
   "metadata": {},
   "source": [
    "## Download PDB files"
   ]
  },
  {
   "cell_type": "code",
   "execution_count": 6,
   "metadata": {},
   "outputs": [
    {
     "name": "stdout",
     "output_type": "stream",
     "text": [
      "Request 6XDG file from https://files.rcsb.org/download/6XDG.pdb to be downloaded to ./pdb_files/6XDG.pdb.\n",
      "Request 7ZJL file from https://files.rcsb.org/download/7ZJL.pdb to be downloaded to ./pdb_files/7ZJL.pdb.\n",
      "Request 7KMG file from https://files.rcsb.org/download/7KMG.pdb to be downloaded to ./pdb_files/7KMG.pdb.\n",
      "Request 7CM4 file from https://files.rcsb.org/download/7CM4.pdb to be downloaded to ./pdb_files/7CM4.pdb.\n",
      "Request 7L7D file from https://files.rcsb.org/download/7L7D.pdb to be downloaded to ./pdb_files/7L7D.pdb.\n",
      "Request 8SUO file from https://files.rcsb.org/download/8SUO.pdb to be downloaded to ./pdb_files/8SUO.pdb.\n",
      "Request 7F7E file from https://files.rcsb.org/download/7F7E.pdb to be downloaded to ./pdb_files/7F7E.pdb.\n",
      "Request 7B3O file from https://files.rcsb.org/download/7B3O.pdb to be downloaded to ./pdb_files/7B3O.pdb.\n",
      "Request 8CWV file from https://files.rcsb.org/download/8CWV.pdb to be downloaded to ./pdb_files/8CWV.pdb.\n",
      "Request 7K9Z file from https://files.rcsb.org/download/7K9Z.pdb to be downloaded to ./pdb_files/7K9Z.pdb.\n",
      "Request 7BYR file from https://files.rcsb.org/download/7BYR.pdb to be downloaded to ./pdb_files/7BYR.pdb.\n",
      "Request 7KZC file from https://files.rcsb.org/download/7KZC.pdb to be downloaded to ./pdb_files/7KZC.pdb.\n",
      "Request 7KZB file from https://files.rcsb.org/download/7KZB.pdb to be downloaded to ./pdb_files/7KZB.pdb.\n",
      "Request 8WFH file from https://files.rcsb.org/download/8WFH.pdb to be downloaded to ./pdb_files/8WFH.pdb.\n",
      "Request 7KZA file from https://files.rcsb.org/download/7KZA.pdb to be downloaded to ./pdb_files/7KZA.pdb.\n",
      "Request 7D4G file from https://files.rcsb.org/download/7D4G.pdb to be downloaded to ./pdb_files/7D4G.pdb.\n",
      "Request 8GZ6 file from https://files.rcsb.org/download/8GZ6.pdb to be downloaded to ./pdb_files/8GZ6.pdb.\n",
      "Request 6W7Y file from https://files.rcsb.org/download/6W7Y.pdb to be downloaded to ./pdb_files/6W7Y.pdb.\n",
      "Request 7C8W file from https://files.rcsb.org/download/7C8W.pdb to be downloaded to ./pdb_files/7C8W.pdb.\n",
      "Request 6WAQ file from https://files.rcsb.org/download/6WAQ.pdb to be downloaded to ./pdb_files/6WAQ.pdb.\n",
      "Request 6ZXN file from https://files.rcsb.org/download/6ZXN.pdb to be downloaded to ./pdb_files/6ZXN.pdb.\n",
      "Request 6WAR file from https://files.rcsb.org/download/6WAR.pdb to be downloaded to ./pdb_files/6WAR.pdb.\n"
     ]
    }
   ],
   "source": [
    "for i in range(pdbids.shape[0]):\n",
    "    download_pdb_file(pdbids.PDB_id[i], data_dir)"
   ]
  },
  {
   "cell_type": "code",
   "execution_count": 7,
   "metadata": {},
   "outputs": [],
   "source": [
    "## End of notebook"
   ]
  }
 ],
 "metadata": {
  "kernelspec": {
   "display_name": "test_env",
   "language": "python",
   "name": "python3"
  },
  "language_info": {
   "codemirror_mode": {
    "name": "ipython",
    "version": 3
   },
   "file_extension": ".py",
   "mimetype": "text/x-python",
   "name": "python",
   "nbconvert_exporter": "python",
   "pygments_lexer": "ipython3",
   "version": "3.8.19"
  }
 },
 "nbformat": 4,
 "nbformat_minor": 2
}
