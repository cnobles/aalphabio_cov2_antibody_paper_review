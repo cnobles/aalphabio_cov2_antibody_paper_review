{
 "cells": [
  {
   "cell_type": "markdown",
   "metadata": {},
   "source": [
    "# Download PDB files used for Identifying Local Epitope Residues\n",
    "\n",
    "Run the cells below to download PDB files used within the analysis."
   ]
  },
  {
   "cell_type": "markdown",
   "metadata": {},
   "source": [
    "## Import required packages"
   ]
  },
  {
   "cell_type": "code",
   "execution_count": 5,
   "metadata": {},
   "outputs": [],
   "source": [
    "import os\n",
    "import sys\n",
    "import pandas as pd\n",
    "import urllib.request\n",
    "import Bio.PDB"
   ]
  },
  {
   "cell_type": "markdown",
   "metadata": {},
   "source": [
    "## Import PDB file information"
   ]
  },
  {
   "cell_type": "code",
   "execution_count": 6,
   "metadata": {},
   "outputs": [
    {
     "data": {
      "text/html": [
       "<div>\n",
       "<style scoped>\n",
       "    .dataframe tbody tr th:only-of-type {\n",
       "        vertical-align: middle;\n",
       "    }\n",
       "\n",
       "    .dataframe tbody tr th {\n",
       "        vertical-align: top;\n",
       "    }\n",
       "\n",
       "    .dataframe thead th {\n",
       "        text-align: right;\n",
       "    }\n",
       "</style>\n",
       "<table border=\"1\" class=\"dataframe\">\n",
       "  <thead>\n",
       "    <tr style=\"text-align: right;\">\n",
       "      <th></th>\n",
       "      <th>Antibody</th>\n",
       "      <th>Short_Name</th>\n",
       "      <th>PDB_id</th>\n",
       "      <th>Primary_Chains</th>\n",
       "      <th>Secondary_Chains</th>\n",
       "    </tr>\n",
       "  </thead>\n",
       "  <tbody>\n",
       "    <tr>\n",
       "      <th>0</th>\n",
       "      <td>Casirivimab</td>\n",
       "      <td>CoV_binder_1</td>\n",
       "      <td>6XDG</td>\n",
       "      <td>e</td>\n",
       "      <td>bd</td>\n",
       "    </tr>\n",
       "    <tr>\n",
       "      <th>1</th>\n",
       "      <td>Imdevimab</td>\n",
       "      <td>CoV_binder_2</td>\n",
       "      <td>7ZJL</td>\n",
       "      <td>abc</td>\n",
       "      <td>ghijkl</td>\n",
       "    </tr>\n",
       "    <tr>\n",
       "      <th>2</th>\n",
       "      <td>Bamlanivimab</td>\n",
       "      <td>CoV_binder_3</td>\n",
       "      <td>7KMG</td>\n",
       "      <td>cf</td>\n",
       "      <td>abde</td>\n",
       "    </tr>\n",
       "    <tr>\n",
       "      <th>3</th>\n",
       "      <td>Regdanvimab</td>\n",
       "      <td>CoV_binder_4</td>\n",
       "      <td>7CM4</td>\n",
       "      <td>a</td>\n",
       "      <td>hi</td>\n",
       "    </tr>\n",
       "    <tr>\n",
       "      <th>4</th>\n",
       "      <td>Tixagevimab</td>\n",
       "      <td>CoV_binder_6</td>\n",
       "      <td>7L7D</td>\n",
       "      <td>e</td>\n",
       "      <td>hl</td>\n",
       "    </tr>\n",
       "    <tr>\n",
       "      <th>5</th>\n",
       "      <td>Cilgavimab</td>\n",
       "      <td>CoV_binder_7</td>\n",
       "      <td>8SUO</td>\n",
       "      <td>a</td>\n",
       "      <td>im</td>\n",
       "    </tr>\n",
       "    <tr>\n",
       "      <th>6</th>\n",
       "      <td>Etesevimab</td>\n",
       "      <td>CoV_binder_8</td>\n",
       "      <td>7F7E</td>\n",
       "      <td>e</td>\n",
       "      <td>cl</td>\n",
       "    </tr>\n",
       "    <tr>\n",
       "      <th>7</th>\n",
       "      <td>COR-101</td>\n",
       "      <td>CoV_binder_9</td>\n",
       "      <td>7B3O</td>\n",
       "      <td>e</td>\n",
       "      <td>hl</td>\n",
       "    </tr>\n",
       "    <tr>\n",
       "      <th>8</th>\n",
       "      <td>CC12.1</td>\n",
       "      <td>CoV_binder_10</td>\n",
       "      <td>8CWV</td>\n",
       "      <td>a</td>\n",
       "      <td>hl</td>\n",
       "    </tr>\n",
       "    <tr>\n",
       "      <th>9</th>\n",
       "      <td>Fab-52</td>\n",
       "      <td>CoV_binder_11</td>\n",
       "      <td>7K9Z</td>\n",
       "      <td>e</td>\n",
       "      <td>hl</td>\n",
       "    </tr>\n",
       "    <tr>\n",
       "      <th>10</th>\n",
       "      <td>BD23</td>\n",
       "      <td>CoV_binder_12</td>\n",
       "      <td>7BYR</td>\n",
       "      <td>abc</td>\n",
       "      <td>hl</td>\n",
       "    </tr>\n",
       "    <tr>\n",
       "      <th>11</th>\n",
       "      <td>CR3014-C8</td>\n",
       "      <td>CoV_binder_14</td>\n",
       "      <td>7KZB</td>\n",
       "      <td>c</td>\n",
       "      <td>hl</td>\n",
       "    </tr>\n",
       "    <tr>\n",
       "      <th>12</th>\n",
       "      <td>CR3014-D1</td>\n",
       "      <td>CoV_binder_15</td>\n",
       "      <td>8WFH</td>\n",
       "      <td>e</td>\n",
       "      <td>a</td>\n",
       "    </tr>\n",
       "    <tr>\n",
       "      <th>13</th>\n",
       "      <td>CR3022-B6</td>\n",
       "      <td>CoV_binder_16</td>\n",
       "      <td>7KZB</td>\n",
       "      <td>c</td>\n",
       "      <td>ab</td>\n",
       "    </tr>\n",
       "    <tr>\n",
       "      <th>14</th>\n",
       "      <td>FC05</td>\n",
       "      <td>CoV_binder_19</td>\n",
       "      <td>7D4G</td>\n",
       "      <td>b</td>\n",
       "      <td>gn</td>\n",
       "    </tr>\n",
       "    <tr>\n",
       "      <th>15</th>\n",
       "      <td>P17</td>\n",
       "      <td>CoV_binder_20</td>\n",
       "      <td>7CWO</td>\n",
       "      <td>X</td>\n",
       "      <td>Y</td>\n",
       "    </tr>\n",
       "    <tr>\n",
       "      <th>16</th>\n",
       "      <td>CR3022</td>\n",
       "      <td>CoV_binder_24</td>\n",
       "      <td>8FAH</td>\n",
       "      <td>X</td>\n",
       "      <td>Y</td>\n",
       "    </tr>\n",
       "    <tr>\n",
       "      <th>17</th>\n",
       "      <td>MR17</td>\n",
       "      <td>CoV_binder_28</td>\n",
       "      <td>7C8W</td>\n",
       "      <td>b</td>\n",
       "      <td>a</td>\n",
       "    </tr>\n",
       "    <tr>\n",
       "      <th>18</th>\n",
       "      <td>VHH-72</td>\n",
       "      <td>CoV_binder_29</td>\n",
       "      <td>6WAQ</td>\n",
       "      <td>bd</td>\n",
       "      <td>ac</td>\n",
       "    </tr>\n",
       "    <tr>\n",
       "      <th>19</th>\n",
       "      <td>Ty1</td>\n",
       "      <td>CoV_binder_30</td>\n",
       "      <td>6ZXN</td>\n",
       "      <td>abc</td>\n",
       "      <td>def</td>\n",
       "    </tr>\n",
       "    <tr>\n",
       "      <th>20</th>\n",
       "      <td>VHH-55</td>\n",
       "      <td>CoV_binder_33</td>\n",
       "      <td>6WAR</td>\n",
       "      <td>acegikmo</td>\n",
       "      <td>bdfhjlnp</td>\n",
       "    </tr>\n",
       "  </tbody>\n",
       "</table>\n",
       "</div>"
      ],
      "text/plain": [
       "        Antibody     Short_Name PDB_id Primary_Chains Secondary_Chains\n",
       "0    Casirivimab   CoV_binder_1   6XDG              e               bd\n",
       "1      Imdevimab   CoV_binder_2   7ZJL            abc           ghijkl\n",
       "2   Bamlanivimab   CoV_binder_3   7KMG             cf             abde\n",
       "3    Regdanvimab   CoV_binder_4   7CM4              a               hi\n",
       "4    Tixagevimab   CoV_binder_6   7L7D              e               hl\n",
       "5     Cilgavimab   CoV_binder_7   8SUO              a               im\n",
       "6     Etesevimab   CoV_binder_8   7F7E              e               cl\n",
       "7        COR-101   CoV_binder_9   7B3O              e               hl\n",
       "8         CC12.1  CoV_binder_10   8CWV              a               hl\n",
       "9         Fab-52  CoV_binder_11   7K9Z              e               hl\n",
       "10          BD23  CoV_binder_12   7BYR            abc               hl\n",
       "11     CR3014-C8  CoV_binder_14   7KZB              c               hl\n",
       "12     CR3014-D1  CoV_binder_15   8WFH              e                a\n",
       "13     CR3022-B6  CoV_binder_16   7KZB              c               ab\n",
       "14          FC05  CoV_binder_19   7D4G              b               gn\n",
       "15           P17  CoV_binder_20   7CWO              X                Y\n",
       "16        CR3022  CoV_binder_24   8FAH              X                Y\n",
       "17          MR17  CoV_binder_28   7C8W              b                a\n",
       "18        VHH-72  CoV_binder_29   6WAQ             bd               ac\n",
       "19           Ty1  CoV_binder_30   6ZXN            abc              def\n",
       "20        VHH-55  CoV_binder_33   6WAR       acegikmo         bdfhjlnp"
      ]
     },
     "execution_count": 6,
     "metadata": {},
     "output_type": "execute_result"
    }
   ],
   "source": [
    "pdbids = pd.read_csv(\"additional_data/pdb_identifiers.csv\")\n",
    "pdbids"
   ]
  },
  {
   "cell_type": "markdown",
   "metadata": {},
   "source": [
    "## Function to download PDB file from source"
   ]
  },
  {
   "cell_type": "code",
   "execution_count": 7,
   "metadata": {},
   "outputs": [],
   "source": [
    "def download_pdb_file(pdb_id, data_dir, base_url = \"https://files.rcsb.org/download/\"):\n",
    "    \"\"\"\n",
    "    Download PDB files to data directory.\n",
    "    Inputs:\n",
    "      - pdb_ids: string identifier for PDB file.\n",
    "      - data_dir: string path to download PDB file.\n",
    "      - base_url: string url path to download PDB files (source).\n",
    "    Outputs:\n",
    "      - Print statements indicating downloads or errors.\n",
    "      - File saved to local path given by 'data_dir' input.\n",
    "    \"\"\"\n",
    "    pdb_file_name = pdb_id + \".pdb\"\n",
    "    source_path = base_url + pdb_file_name\n",
    "    output_path = os.path.join(data_dir, pdb_file_name)\n",
    "    print(f\"Request {pdb_id} file from {source_path} to be downloaded to {output_path}.\")\n",
    "    try:\n",
    "        urllib.request.urlretrieve(source_path, output_path)\n",
    "        return(output_path)\n",
    "    except Exception as err:\n",
    "        print(str(err), file = sys.stderr)\n",
    "        return None"
   ]
  },
  {
   "cell_type": "markdown",
   "metadata": {},
   "source": [
    "## Create PDB file directory if it doesn't exist"
   ]
  },
  {
   "cell_type": "code",
   "execution_count": 8,
   "metadata": {},
   "outputs": [],
   "source": [
    "data_dir = \"./pdb_files/\"\n",
    "if not os.path.exists(data_dir):\n",
    "    os.makedirs(data_dir)"
   ]
  },
  {
   "cell_type": "markdown",
   "metadata": {},
   "source": [
    "## Download PDB files"
   ]
  },
  {
   "cell_type": "code",
   "execution_count": 9,
   "metadata": {},
   "outputs": [
    {
     "name": "stdout",
     "output_type": "stream",
     "text": [
      "Request 6XDG file from https://files.rcsb.org/download/6XDG.pdb to be downloaded to ./pdb_files/6XDG.pdb.\n",
      "Request 7ZJL file from https://files.rcsb.org/download/7ZJL.pdb to be downloaded to ./pdb_files/7ZJL.pdb.\n",
      "Request 7KMG file from https://files.rcsb.org/download/7KMG.pdb to be downloaded to ./pdb_files/7KMG.pdb.\n",
      "Request 7CM4 file from https://files.rcsb.org/download/7CM4.pdb to be downloaded to ./pdb_files/7CM4.pdb.\n",
      "Request 7L7D file from https://files.rcsb.org/download/7L7D.pdb to be downloaded to ./pdb_files/7L7D.pdb.\n",
      "Request 8SUO file from https://files.rcsb.org/download/8SUO.pdb to be downloaded to ./pdb_files/8SUO.pdb.\n",
      "Request 7F7E file from https://files.rcsb.org/download/7F7E.pdb to be downloaded to ./pdb_files/7F7E.pdb.\n",
      "Request 7B3O file from https://files.rcsb.org/download/7B3O.pdb to be downloaded to ./pdb_files/7B3O.pdb.\n",
      "Request 8CWV file from https://files.rcsb.org/download/8CWV.pdb to be downloaded to ./pdb_files/8CWV.pdb.\n",
      "Request 7K9Z file from https://files.rcsb.org/download/7K9Z.pdb to be downloaded to ./pdb_files/7K9Z.pdb.\n",
      "Request 7BYR file from https://files.rcsb.org/download/7BYR.pdb to be downloaded to ./pdb_files/7BYR.pdb.\n",
      "Request 7KZB file from https://files.rcsb.org/download/7KZB.pdb to be downloaded to ./pdb_files/7KZB.pdb.\n",
      "Request 8WFH file from https://files.rcsb.org/download/8WFH.pdb to be downloaded to ./pdb_files/8WFH.pdb.\n",
      "Request 7KZB file from https://files.rcsb.org/download/7KZB.pdb to be downloaded to ./pdb_files/7KZB.pdb.\n",
      "Request 7D4G file from https://files.rcsb.org/download/7D4G.pdb to be downloaded to ./pdb_files/7D4G.pdb.\n",
      "Request 7CWO file from https://files.rcsb.org/download/7CWO.pdb to be downloaded to ./pdb_files/7CWO.pdb.\n",
      "Request 8FAH file from https://files.rcsb.org/download/8FAH.pdb to be downloaded to ./pdb_files/8FAH.pdb.\n",
      "Request 7C8W file from https://files.rcsb.org/download/7C8W.pdb to be downloaded to ./pdb_files/7C8W.pdb.\n",
      "Request 6WAQ file from https://files.rcsb.org/download/6WAQ.pdb to be downloaded to ./pdb_files/6WAQ.pdb.\n",
      "Request 6ZXN file from https://files.rcsb.org/download/6ZXN.pdb to be downloaded to ./pdb_files/6ZXN.pdb.\n",
      "Request 6WAR file from https://files.rcsb.org/download/6WAR.pdb to be downloaded to ./pdb_files/6WAR.pdb.\n"
     ]
    }
   ],
   "source": [
    "for i in range(pdbids.shape[0]):\n",
    "    download_pdb_file(pdbids.PDB_id[i], data_dir)"
   ]
  },
  {
   "cell_type": "code",
   "execution_count": 10,
   "metadata": {},
   "outputs": [
    {
     "name": "stdout",
     "output_type": "stream",
     "text": [
      "Operation has completed.\n"
     ]
    }
   ],
   "source": [
    "print(\"Operation has completed.\")"
   ]
  },
  {
   "cell_type": "markdown",
   "metadata": {},
   "source": [
    "## End of notebook"
   ]
  }
 ],
 "metadata": {
  "kernelspec": {
   "display_name": "test_env",
   "language": "python",
   "name": "python3"
  },
  "language_info": {
   "codemirror_mode": {
    "name": "ipython",
    "version": 3
   },
   "file_extension": ".py",
   "mimetype": "text/x-python",
   "name": "python",
   "nbconvert_exporter": "python",
   "pygments_lexer": "ipython3",
   "version": "3.8.19"
  }
 },
 "nbformat": 4,
 "nbformat_minor": 2
}
